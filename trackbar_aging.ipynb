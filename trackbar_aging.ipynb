{
 "cells": [
  {
   "cell_type": "code",
   "execution_count": null,
   "id": "7e366eed",
   "metadata": {},
   "outputs": [],
   "source": [
    "import numpy as np\n",
    "import matplotlib.pyplot as plt\n",
    "import cv2"
   ]
  },
  {
   "cell_type": "code",
   "execution_count": null,
   "id": "16e4d39f",
   "metadata": {},
   "outputs": [
    {
     "data": {
      "text/plain": [
       "((398, 301, 3), (398, 301, 3))"
      ]
     },
     "execution_count": 2,
     "metadata": {},
     "output_type": "execute_result"
    }
   ],
   "source": [
    "img_yng = cv2.imread('pic3/young.jpg')\n",
    "img_old = cv2.imread('pic3/old.jpg')\n",
    "img_old = cv2.resize(img_old,(img_yng.shape[1],img_yng.shape[0]))\n",
    "img_yng.shape, img_old.shape"
   ]
  },
  {
   "cell_type": "code",
   "execution_count": null,
   "id": "39cff7f9",
   "metadata": {},
   "outputs": [],
   "source": [
    "win_name = 'See Your Aging'\n",
    "bar_max = 100\n",
    "def on_trackbar(val):\n",
    "    global img_cmb\n",
    "    beta = val/bar_max\n",
    "    alpha = 1-beta\n",
    "    img_cmb = cv2.addWeighted(img_yng, alpha, img_old, beta,0)\n",
    "    cv2.imshow(win_name,img_cmb )\n"
   ]
  },
  {
   "cell_type": "code",
   "execution_count": null,
   "id": "219c0b0e",
   "metadata": {},
   "outputs": [
    {
     "ename": "TypeError",
     "evalue": "getTrackbarPos() missing required argument 'trackbarname' (pos 1)",
     "output_type": "error",
     "traceback": [
      "\u001b[31m---------------------------------------------------------------------------\u001b[39m",
      "\u001b[31mTypeError\u001b[39m                                 Traceback (most recent call last)",
      "\u001b[36mCell\u001b[39m\u001b[36m \u001b[39m\u001b[32mIn[4]\u001b[39m\u001b[32m, line 3\u001b[39m\n\u001b[32m      1\u001b[39m cv2.namedWindow(win_name)\n\u001b[32m      2\u001b[39m cv2.createTrackbar(\u001b[33m'\u001b[39m\u001b[33mbeta\u001b[39m\u001b[33m%\u001b[39m\u001b[33m'\u001b[39m,win_name, \u001b[32m0\u001b[39m, \u001b[32m100\u001b[39m, on_trackbar)\n\u001b[32m----> \u001b[39m\u001b[32m3\u001b[39m \u001b[43mon_trackbar\u001b[49m\u001b[43m(\u001b[49m\u001b[32;43m0\u001b[39;49m\u001b[43m)\u001b[49m\n\u001b[32m      4\u001b[39m cv2.waitKey(\u001b[32m0\u001b[39m)\n\u001b[32m      5\u001b[39m cv2.destroyAllWindows()\n",
      "\u001b[36mCell\u001b[39m\u001b[36m \u001b[39m\u001b[32mIn[3]\u001b[39m\u001b[32m, line 5\u001b[39m, in \u001b[36mon_trackbar\u001b[39m\u001b[34m(val)\u001b[39m\n\u001b[32m      3\u001b[39m \u001b[38;5;28;01mdef\u001b[39;00m\u001b[38;5;250m \u001b[39m\u001b[34mon_trackbar\u001b[39m(val):\n\u001b[32m      4\u001b[39m     \u001b[38;5;28;01mglobal\u001b[39;00m percent\n\u001b[32m----> \u001b[39m\u001b[32m5\u001b[39m     beta = \u001b[43mcv2\u001b[49m\u001b[43m.\u001b[49m\u001b[43mgetTrackbarPos\u001b[49m\u001b[43m(\u001b[49m\u001b[43m)\u001b[49m/\u001b[32m100\u001b[39m\n\u001b[32m      6\u001b[39m     alpha = \u001b[32m1\u001b[39m-beta\n\u001b[32m      7\u001b[39m     img_cmb = cv2.addWeighted(img_yng, alpha, img_old, beta,\u001b[32m0\u001b[39m)\n",
      "\u001b[31mTypeError\u001b[39m: getTrackbarPos() missing required argument 'trackbarname' (pos 1)"
     ]
    },
    {
     "ename": "",
     "evalue": "",
     "output_type": "error",
     "traceback": [
      "\u001b[1;31mThe Kernel crashed while executing code in the current cell or a previous cell. \n",
      "\u001b[1;31mPlease review the code in the cell(s) to identify a possible cause of the failure. \n",
      "\u001b[1;31mClick <a href='https://aka.ms/vscodeJupyterKernelCrash'>here</a> for more info. \n",
      "\u001b[1;31mView Jupyter <a href='command:jupyter.viewOutput'>log</a> for further details."
     ]
    }
   ],
   "source": [
    "cv2.namedWindow(win_name)\n",
    "cv2.createTrackbar('beta%',win_name, 0, bar_max, on_trackbar)\n",
    "on_trackbar(0)\n",
    "cv2.waitKey(0)\n",
    "cv2.destroyAllWindows()"
   ]
  }
 ],
 "metadata": {
  "kernelspec": {
   "display_name": "Python 3",
   "language": "python",
   "name": "python3"
  },
  "language_info": {
   "codemirror_mode": {
    "name": "ipython",
    "version": 3
   },
   "file_extension": ".py",
   "mimetype": "text/x-python",
   "name": "python",
   "nbconvert_exporter": "python",
   "pygments_lexer": "ipython3",
   "version": "3.13.9"
  }
 },
 "nbformat": 4,
 "nbformat_minor": 5
}
